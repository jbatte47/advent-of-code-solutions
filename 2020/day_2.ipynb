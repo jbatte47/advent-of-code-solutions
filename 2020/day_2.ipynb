{
 "metadata": {
  "language_info": {
   "codemirror_mode": {
    "name": "ipython",
    "version": 3
   },
   "file_extension": ".py",
   "mimetype": "text/x-python",
   "name": "python",
   "nbconvert_exporter": "python",
   "pygments_lexer": "ipython3",
   "version": "3.9.1-final"
  },
  "orig_nbformat": 2,
  "kernelspec": {
   "name": "python3",
   "display_name": "Python 3",
   "language": "python"
  }
 },
 "nbformat": 4,
 "nbformat_minor": 2,
 "cells": [
  {
   "source": [
    "# Advent Of Code 2020\n",
    "## Day 2"
   ],
   "cell_type": "markdown",
   "metadata": {}
  },
  {
   "cell_type": "code",
   "execution_count": 160,
   "metadata": {},
   "outputs": [],
   "source": [
    "import pandas as pd\n",
    "import re\n",
    "import numpy as np\n",
    "\n",
    "df = pd.DataFrame(\n",
    "    data=open('./data/day2.txt', 'r').readlines(),\n",
    "    columns=['record']\n",
    ").record.str.strip().to_frame()"
   ]
  },
  {
   "cell_type": "code",
   "execution_count": 163,
   "metadata": {},
   "outputs": [],
   "source": [
    "def meets_criteria_1 (record):\n",
    "    if match := re.match(r'(\\d+)-(\\d+) ([A-Za-z]{1}): (.+)', record):\n",
    "        min_chars = int(match.group(1))\n",
    "        max_chars = int(match.group(2))\n",
    "        char = match.group(3)\n",
    "        pw = match.group(4)\n",
    "        char_count = np.char.count(pw, char)\n",
    "        return char_count <= max_chars and char_count >= min_chars\n",
    "    else:\n",
    "        return False"
   ]
  },
  {
   "source": [
    "## Day 2, Answer 1:"
   ],
   "cell_type": "markdown",
   "metadata": {}
  },
  {
   "cell_type": "code",
   "execution_count": 164,
   "metadata": {
    "tags": []
   },
   "outputs": [
    {
     "output_type": "execute_result",
     "data": {
      "text/plain": [
       "record    418\n",
       "dtype: int64"
      ]
     },
     "metadata": {},
     "execution_count": 164
    }
   ],
   "source": [
    "df_validation = df.record.map(meets_criteria_1).to_frame()\n",
    "df[df_validation].dropna().count()"
   ]
  },
  {
   "cell_type": "code",
   "execution_count": 174,
   "metadata": {},
   "outputs": [],
   "source": [
    "def meets_criteria_2 (record):\n",
    "    if match := re.match(r'(\\d+)-(\\d+) ([A-Za-z]{1}): (.+)', record):\n",
    "        pos_1 = int(match.group(1))\n",
    "        pos_2 = int(match.group(2))\n",
    "        char = match.group(3)\n",
    "        pw = list(match.group(4))\n",
    "        pw_count = len(pw)\n",
    "        char_1 = '' if pw_count < pos_1 else pw[pos_1 - 1]\n",
    "        char_2 = '' if pw_count < pos_2 else pw[pos_2 - 1]\n",
    "        char_count = np.char.count([char_1, char_2], char).sum()\n",
    "        return char_count == 1\n",
    "    else:\n",
    "        return False"
   ]
  },
  {
   "source": [
    "## Day 2, Answer 2:"
   ],
   "cell_type": "markdown",
   "metadata": {}
  },
  {
   "cell_type": "code",
   "execution_count": 175,
   "metadata": {},
   "outputs": [
    {
     "output_type": "execute_result",
     "data": {
      "text/plain": [
       "record    616\n",
       "dtype: int64"
      ]
     },
     "metadata": {},
     "execution_count": 175
    }
   ],
   "source": [
    "df_validation_2 = df.record.map(meets_criteria_2).to_frame()\n",
    "df[df_validation_2].dropna().count()"
   ]
  }
 ]
}