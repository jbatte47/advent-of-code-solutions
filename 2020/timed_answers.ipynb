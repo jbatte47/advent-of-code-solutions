{
 "metadata": {
  "language_info": {
   "codemirror_mode": {
    "name": "ipython",
    "version": 3
   },
   "file_extension": ".py",
   "mimetype": "text/x-python",
   "name": "python",
   "nbconvert_exporter": "python",
   "pygments_lexer": "ipython3",
   "version": "3.9.0-final"
  },
  "orig_nbformat": 2,
  "kernelspec": {
   "name": "python3",
   "display_name": "Python 3",
   "language": "python"
  }
 },
 "nbformat": 4,
 "nbformat_minor": 2,
 "cells": [
  {
   "source": [
    "# Advent of Code 2020\n",
    "## All Answers, Timed"
   ],
   "cell_type": "markdown",
   "metadata": {}
  },
  {
   "cell_type": "code",
   "execution_count": 148,
   "metadata": {},
   "outputs": [],
   "source": [
    "import pandas as pd\n",
    "import numpy as np\n",
    "import re\n",
    "from pathlib import Path\n",
    "from functools import reduce"
   ]
  },
  {
   "cell_type": "code",
   "execution_count": 113,
   "metadata": {},
   "outputs": [],
   "source": [
    "def day_1a(df):\n",
    "    df_matches = df.merge(2020 - df)\n",
    "    return df_matches.value[0] * df_matches.value[1]\n",
    "\n",
    "def day_1b(df):\n",
    "    df_sums = 2020 - df\n",
    "    df_b = pd.DataFrame(\n",
    "        data=df_sums.apply(lambda s: (s - df).value, axis='columns').values.flatten(),\n",
    "        columns=['value']\n",
    "    ).drop_duplicates()\n",
    "    df_c = pd.DataFrame(\n",
    "        data=df_b.apply(lambda b: (df_sums - b).value, axis='columns').values.flatten(),\n",
    "        columns=['value']\n",
    "    ).drop_duplicates()\n",
    "    df_results = df.merge(df_b).merge(df_c)\n",
    "    return df_results.value[0] * df_results.value[1] * df_results.value[2]\n",
    "\n",
    "def day_1():\n",
    "    df = pd.read_csv('./data/day1.txt', names=['value'])\n",
    "    return (day_1a(df), day_1b(df))"
   ]
  },
  {
   "cell_type": "code",
   "execution_count": 114,
   "metadata": {},
   "outputs": [],
   "source": [
    "def meets_day_2a_criteria(record):\n",
    "    if match := re.match(r'(\\d+)-(\\d+) ([A-Za-z]{1}): (.+)', record):\n",
    "        min_chars = int(match.group(1))\n",
    "        max_chars = int(match.group(2))\n",
    "        char = match.group(3)\n",
    "        pw = match.group(4)\n",
    "        char_count = np.char.count(pw, char)\n",
    "        return char_count <= max_chars and char_count >= min_chars\n",
    "    else:\n",
    "        return False\n",
    "\n",
    "def meets_day_2b_criteria(record):\n",
    "    if match := re.match(r'(\\d+)-(\\d+) ([A-Za-z]{1}): (.+)', record):\n",
    "        pos_1 = int(match.group(1))\n",
    "        pos_2 = int(match.group(2))\n",
    "        char = match.group(3)\n",
    "        pw = list(match.group(4))\n",
    "        pw_count = len(pw)\n",
    "        char_1 = '' if pw_count < pos_1 else pw[pos_1 - 1]\n",
    "        char_2 = '' if pw_count < pos_2 else pw[pos_2 - 1]\n",
    "        char_count = np.char.count([char_1, char_2], char).sum()\n",
    "        return char_count == 1\n",
    "    else:\n",
    "        return False\n",
    "\n",
    "def day_2a(df):\n",
    "    df_validation = df.record.map(meets_day_2a_criteria).to_frame()\n",
    "    return df[df_validation].dropna().count().values[0]\n",
    "\n",
    "def day_2b(df):\n",
    "    df_validation_2 = df.record.map(meets_day_2b_criteria).to_frame()\n",
    "    return df[df_validation_2].dropna().count().values[0]\n",
    "\n",
    "def day_2():\n",
    "    df = pd.DataFrame(\n",
    "        data=open('./data/day2.txt', 'r').readlines(),\n",
    "        columns=['record']\n",
    "    ).record.str.strip().to_frame()\n",
    "    return (day_2a(df), day_2b(df))"
   ]
  },
  {
   "cell_type": "code",
   "execution_count": 115,
   "metadata": {},
   "outputs": [],
   "source": [
    "def extract_char(pattern, index):\n",
    "    length = len(pattern)\n",
    "    return pattern[index if index < length else index % length]\n",
    "\n",
    "def count_trees(df, steps):\n",
    "    df_x = df.index.map(lambda i: extract_char(df.terrain[i], i * steps)).to_frame(index=False)\n",
    "    return df_x[df_x[0] == '#'].count().values[0]\n",
    "\n",
    "def day_3b(df):\n",
    "    return np.array([\n",
    "        count_trees(df, 1),\n",
    "        count_trees(df, 3),\n",
    "        count_trees(df, 5),\n",
    "        count_trees(df, 7),\n",
    "        count_trees(df[df.index % 2 == 0].reset_index(drop=True), 1)\n",
    "    ]).prod()\n",
    "\n",
    "def day_3():\n",
    "    df = pd.read_csv('./data/day3.txt', names=['terrain'])\n",
    "    return (count_trees(df, 3), day_3b(df))"
   ]
  },
  {
   "cell_type": "code",
   "execution_count": 204,
   "metadata": {},
   "outputs": [],
   "source": [
    "def validate_pattern(pattern, f_test):\n",
    "    def validate(text):\n",
    "        if match := re.findall(pattern, text):\n",
    "            return f_test(*match[0])\n",
    "        else:\n",
    "            return False\n",
    "    return validate\n",
    "\n",
    "def validate_height(value, uom):\n",
    "    if uom == 'cm':\n",
    "        return 150 <= value <= 193\n",
    "    elif uom == 'in':\n",
    "        return 59 <= value <= 76\n",
    "    else:\n",
    "        return False\n",
    "\n",
    "def validate(passport):\n",
    "    b_results = map(lambda f: f(passport), [\n",
    "        validate_pattern(r'(byr):(\\d+)', lambda _, d: 1920 <= int(d) <= 2002),\n",
    "        validate_pattern(r'(iyr):(\\d+)', lambda _, d: 2010 <= int(d) <= 2020),\n",
    "        validate_pattern(r'(eyr):(\\d+)', lambda _, d: 2020 <= int(d) <= 2030),\n",
    "        validate_pattern(r'(hgt):(\\d+)([^\\s]+)', lambda _, d, t: validate_height(int(d), t)),\n",
    "        validate_pattern(r'(hcl):(#[0-9a-f]{6})', lambda _, v: True),\n",
    "        validate_pattern(r'(ecl):([^\\s]+)', lambda _, v: v in ['amb', 'blu', 'brn', 'gry', 'grn', 'hzl', 'oth']),\n",
    "        validate_pattern(r'(pid):(\\d{9})', lambda _, v: True)\n",
    "    ])\n",
    "    return reduce(lambda l, r: l and r, b_results, True)\n",
    "\n",
    "def day_4():\n",
    "    s_input = Path('./data/day4.txt').read_text().strip()\n",
    "    df = pd.DataFrame(data=re.split(r'^$', s_input, flags=re.MULTILINE))\n",
    "    df_x = df[0].map(lambda e: len([x for x in re.findall(r'(\\w+):[^\\s]+', e) if x != 'cid']) == 7).to_frame()\n",
    "    df_min_props = df[df_x].dropna()\n",
    "    df_valid_props = df_min_props[df_min_props[0].map(validate).to_frame()].dropna()\n",
    "    return (df_min_props.count().values[0], df_valid_props.count().values[0])"
   ]
  },
  {
   "cell_type": "code",
   "execution_count": 205,
   "metadata": {},
   "outputs": [
    {
     "output_type": "stream",
     "name": "stdout",
     "text": [
      "Day 1: (969024, 230057040)\nDay 2: (418, 616)\nDay 3: (176, 5872458240)\nDay 4: (264, 225)\nCPU times: user 770 ms, sys: 9.38 ms, total: 779 ms\nWall time: 792 ms\n"
     ]
    }
   ],
   "source": [
    "%%time\n",
    "print('Day 1:', day_1())\n",
    "print('Day 2:', day_2())\n",
    "print('Day 3:', day_3())\n",
    "print('Day 4:', day_4())"
   ]
  },
  {
   "cell_type": "code",
   "execution_count": 199,
   "metadata": {},
   "outputs": [
    {
     "output_type": "execute_result",
     "data": {
      "text/plain": [
       "True"
      ]
     },
     "metadata": {},
     "execution_count": 199
    }
   ],
   "source": [
    "i = f'''iyr:2015 cid:189 ecl:oth byr:1947 hcl:#6c4ab1 eyr:2026\n",
    "hgt:174cm\n",
    "pid:526744288'''\n",
    "r = r'(eyr):([^\\s]+)'\n",
    "m = re.findall(r, i)\n",
    "\n",
    "def do(_, a):\n",
    "    print('a is', a)\n",
    "\n",
    "l = ['eyr', 'byr', 'ecl']\n",
    "x = 'byr' in l\n",
    "x"
   ]
  }
 ]
}