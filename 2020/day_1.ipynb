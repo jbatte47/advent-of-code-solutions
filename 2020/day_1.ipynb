{
 "metadata": {
  "language_info": {
   "codemirror_mode": {
    "name": "ipython",
    "version": 3
   },
   "file_extension": ".py",
   "mimetype": "text/x-python",
   "name": "python",
   "nbconvert_exporter": "python",
   "pygments_lexer": "ipython3",
   "version": "3.9.1-final"
  },
  "orig_nbformat": 2,
  "kernelspec": {
   "name": "python3",
   "display_name": "Python 3.9.1 64-bit ('advent-of-code-solutions': pipenv)",
   "metadata": {
    "interpreter": {
     "hash": "33d9cdeda460196cc1526b255d5ee5390fb45d40c83d1c2aae5174ff39192547"
    }
   }
  }
 },
 "nbformat": 4,
 "nbformat_minor": 2,
 "cells": [
  {
   "source": [
    "# Advent Of Code 2020\n",
    "## Day 1"
   ],
   "cell_type": "markdown",
   "metadata": {}
  },
  {
   "cell_type": "code",
   "execution_count": 116,
   "metadata": {},
   "outputs": [],
   "source": [
    "from IPython.display import display, HTML"
   ]
  },
  {
   "cell_type": "code",
   "execution_count": 117,
   "metadata": {},
   "outputs": [
    {
     "output_type": "display_data",
     "data": {
      "text/plain": "'hello world'"
     },
     "metadata": {}
    }
   ],
   "source": [
    "display('hello world')"
   ]
  },
  {
   "source": [
    "Alright good, got myself to a baseline. Python works, I'm in a notebook, I'm ready to rock my way through these coding challenges.\n",
    "\n",
    "Now, for day 1's first step, looks like I have a file I'll need to read in as a data frame, so being able to `read_csv` seems like a good first step.\n",
    "\n"
   ],
   "cell_type": "markdown",
   "metadata": {}
  },
  {
   "cell_type": "code",
   "execution_count": 118,
   "metadata": {},
   "outputs": [
    {
     "output_type": "execute_result",
     "data": {
      "text/plain": [
       "     value\n",
       "0     1664\n",
       "1     1939\n",
       "2     1658\n",
       "3     1791\n",
       "4     1011\n",
       "..     ...\n",
       "195   1983\n",
       "196   1784\n",
       "197   1671\n",
       "198   1807\n",
       "199   1943\n",
       "\n",
       "[200 rows x 1 columns]"
      ],
      "text/html": "<div>\n<style scoped>\n    .dataframe tbody tr th:only-of-type {\n        vertical-align: middle;\n    }\n\n    .dataframe tbody tr th {\n        vertical-align: top;\n    }\n\n    .dataframe thead th {\n        text-align: right;\n    }\n</style>\n<table border=\"1\" class=\"dataframe\">\n  <thead>\n    <tr style=\"text-align: right;\">\n      <th></th>\n      <th>value</th>\n    </tr>\n  </thead>\n  <tbody>\n    <tr>\n      <th>0</th>\n      <td>1664</td>\n    </tr>\n    <tr>\n      <th>1</th>\n      <td>1939</td>\n    </tr>\n    <tr>\n      <th>2</th>\n      <td>1658</td>\n    </tr>\n    <tr>\n      <th>3</th>\n      <td>1791</td>\n    </tr>\n    <tr>\n      <th>4</th>\n      <td>1011</td>\n    </tr>\n    <tr>\n      <th>...</th>\n      <td>...</td>\n    </tr>\n    <tr>\n      <th>195</th>\n      <td>1983</td>\n    </tr>\n    <tr>\n      <th>196</th>\n      <td>1784</td>\n    </tr>\n    <tr>\n      <th>197</th>\n      <td>1671</td>\n    </tr>\n    <tr>\n      <th>198</th>\n      <td>1807</td>\n    </tr>\n    <tr>\n      <th>199</th>\n      <td>1943</td>\n    </tr>\n  </tbody>\n</table>\n<p>200 rows × 1 columns</p>\n</div>"
     },
     "metadata": {},
     "execution_count": 118
    }
   ],
   "source": [
    "import pandas as pd\n",
    "df = pd.read_csv('./data/day1.txt', names=['value'])\n",
    "df"
   ]
  },
  {
   "source": [
    "Yep, that worked. Now, I need to find which 2 rows add up to 2020. I think I can start by calculating what each row would need their partner value to be (`2020 - x`), and then pass that to `.merge` to find the matching (partner) rows."
   ],
   "cell_type": "markdown",
   "metadata": {}
  },
  {
   "cell_type": "code",
   "execution_count": 123,
   "metadata": {},
   "outputs": [
    {
     "output_type": "execute_result",
     "data": {
      "text/plain": [
       "   value\n",
       "0   1236\n",
       "1    784"
      ],
      "text/html": "<div>\n<style scoped>\n    .dataframe tbody tr th:only-of-type {\n        vertical-align: middle;\n    }\n\n    .dataframe tbody tr th {\n        vertical-align: top;\n    }\n\n    .dataframe thead th {\n        text-align: right;\n    }\n</style>\n<table border=\"1\" class=\"dataframe\">\n  <thead>\n    <tr style=\"text-align: right;\">\n      <th></th>\n      <th>value</th>\n    </tr>\n  </thead>\n  <tbody>\n    <tr>\n      <th>0</th>\n      <td>1236</td>\n    </tr>\n    <tr>\n      <th>1</th>\n      <td>784</td>\n    </tr>\n  </tbody>\n</table>\n</div>"
     },
     "metadata": {},
     "execution_count": 123
    }
   ],
   "source": [
    "df_matches = df.merge(2020 - df)\n",
    "df_matches"
   ]
  },
  {
   "source": [
    "### WOO!\n",
    "Found my two matching values. Now to multiply them together to get my answer:"
   ],
   "cell_type": "markdown",
   "metadata": {}
  },
  {
   "cell_type": "code",
   "execution_count": 124,
   "metadata": {},
   "outputs": [
    {
     "output_type": "display_data",
     "data": {
      "text/plain": "<IPython.core.display.HTML object>",
      "text/html": "<h2>Day 1: First Answer</h2>"
     },
     "metadata": {}
    },
    {
     "output_type": "execute_result",
     "data": {
      "text/plain": [
       "969024"
      ]
     },
     "metadata": {},
     "execution_count": 124
    }
   ],
   "source": [
    "display(HTML('<h2>Day 1: First Answer</h2>'))\n",
    "df_matches.value[0] * df_matches.value[1]"
   ]
  }
 ]
}