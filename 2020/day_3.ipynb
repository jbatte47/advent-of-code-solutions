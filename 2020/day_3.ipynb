{
 "metadata": {
  "language_info": {
   "codemirror_mode": {
    "name": "ipython",
    "version": 3
   },
   "file_extension": ".py",
   "mimetype": "text/x-python",
   "name": "python",
   "nbconvert_exporter": "python",
   "pygments_lexer": "ipython3",
   "version": "3.9.0-final"
  },
  "orig_nbformat": 2,
  "kernelspec": {
   "name": "python3",
   "display_name": "Python 3.9.0 64-bit ('advent-of-code-solutions': pipenv)",
   "metadata": {
    "interpreter": {
     "hash": "70f44ba84819055ba7157b292bf483cbbe1a34f9727067e02a3e1d942bc60b56"
    }
   }
  }
 },
 "nbformat": 4,
 "nbformat_minor": 2,
 "cells": [
  {
   "source": [
    "# Advent of Code 2020\n",
    "## Day 3"
   ],
   "cell_type": "markdown",
   "metadata": {}
  },
  {
   "cell_type": "code",
   "execution_count": 160,
   "metadata": {},
   "outputs": [
    {
     "output_type": "execute_result",
     "data": {
      "text/plain": [
       "                              coords\n",
       "0    .##.............##......#.....#\n",
       "1    .#.#................#..........\n",
       "2    ...#..#.##..#.#......#.#.#.#..#\n",
       "3    ..#......#........#..#..#.#.#..\n",
       "4    .......#....#..#..#.......#....\n",
       "..                               ...\n",
       "318  ..#.#....#..#.................#\n",
       "319  ........#..##..#.....#....#.##.\n",
       "320  ...#.#..#..#..#..............##\n",
       "321  .##.......###.#......#....#..##\n",
       "322  ..##.##.#......#....#..#...#..#\n",
       "\n",
       "[323 rows x 1 columns]"
      ],
      "text/html": "<div>\n<style scoped>\n    .dataframe tbody tr th:only-of-type {\n        vertical-align: middle;\n    }\n\n    .dataframe tbody tr th {\n        vertical-align: top;\n    }\n\n    .dataframe thead th {\n        text-align: right;\n    }\n</style>\n<table border=\"1\" class=\"dataframe\">\n  <thead>\n    <tr style=\"text-align: right;\">\n      <th></th>\n      <th>coords</th>\n    </tr>\n  </thead>\n  <tbody>\n    <tr>\n      <th>0</th>\n      <td>.##.............##......#.....#</td>\n    </tr>\n    <tr>\n      <th>1</th>\n      <td>.#.#................#..........</td>\n    </tr>\n    <tr>\n      <th>2</th>\n      <td>...#..#.##..#.#......#.#.#.#..#</td>\n    </tr>\n    <tr>\n      <th>3</th>\n      <td>..#......#........#..#..#.#.#..</td>\n    </tr>\n    <tr>\n      <th>4</th>\n      <td>.......#....#..#..#.......#....</td>\n    </tr>\n    <tr>\n      <th>...</th>\n      <td>...</td>\n    </tr>\n    <tr>\n      <th>318</th>\n      <td>..#.#....#..#.................#</td>\n    </tr>\n    <tr>\n      <th>319</th>\n      <td>........#..##..#.....#....#.##.</td>\n    </tr>\n    <tr>\n      <th>320</th>\n      <td>...#.#..#..#..#..............##</td>\n    </tr>\n    <tr>\n      <th>321</th>\n      <td>.##.......###.#......#....#..##</td>\n    </tr>\n    <tr>\n      <th>322</th>\n      <td>..##.##.#......#....#..#...#..#</td>\n    </tr>\n  </tbody>\n</table>\n<p>323 rows × 1 columns</p>\n</div>"
     },
     "metadata": {},
     "execution_count": 160
    }
   ],
   "source": [
    "import pandas as pd\n",
    "import numpy as np\n",
    "df = pd.read_csv('./data/day3.txt', names=['coords'])\n",
    "df"
   ]
  },
  {
   "cell_type": "code",
   "execution_count": 161,
   "metadata": {},
   "outputs": [],
   "source": [
    "def extract_char(pattern, index):\n",
    "    length = len(pattern)\n",
    "    return pattern[index if index < length else index % length]"
   ]
  },
  {
   "cell_type": "code",
   "execution_count": 169,
   "metadata": {},
   "outputs": [
    {
     "output_type": "stream",
     "name": "stdout",
     "text": [
      "CPU times: user 6.05 ms, sys: 103 µs, total: 6.15 ms\nWall time: 6.12 ms\n"
     ]
    },
    {
     "output_type": "execute_result",
     "data": {
      "text/plain": [
       "0    176\n",
       "dtype: int64"
      ]
     },
     "metadata": {},
     "execution_count": 169
    }
   ],
   "source": [
    "%%time\n",
    "df_trail = df.index.map(lambda i: extract_char(df.coords[i], i * 3)).to_frame(index=False)\n",
    "df_trail[df_trail[0] == '#'].count()"
   ]
  },
  {
   "cell_type": "code",
   "execution_count": 166,
   "metadata": {},
   "outputs": [],
   "source": [
    "def count_trees(df_data, down, across):\n",
    "    df_coords = df_data.copy(deep=True)\n",
    "    df_coords['idx'] = df_coords.index\n",
    "    df_down = df_coords[df_coords['idx'] % down == 0].reset_index(drop=True)\n",
    "    df_across = df_down.index.map(lambda i: extract_char(df_down.coords[i], i * across)).to_frame(index=False)\n",
    "    return df_across[df_across[0] == '#'].count()"
   ]
  },
  {
   "cell_type": "code",
   "execution_count": 167,
   "metadata": {},
   "outputs": [],
   "source": [
    "def get_tree_product(df_coords):\n",
    "    return np.array([\n",
    "        count_trees(df_coords, 1, 1),\n",
    "        count_trees(df_coords, 1, 3),\n",
    "        count_trees(df_coords, 1, 5),\n",
    "        count_trees(df_coords, 1, 7),\n",
    "        count_trees(df_coords, 2, 1)\n",
    "    ]).prod()"
   ]
  },
  {
   "cell_type": "code",
   "execution_count": 168,
   "metadata": {},
   "outputs": [
    {
     "output_type": "stream",
     "name": "stdout",
     "text": [
      "CPU times: user 30.5 ms, sys: 855 µs, total: 31.4 ms\nWall time: 30.8 ms\n"
     ]
    },
    {
     "output_type": "execute_result",
     "data": {
      "text/plain": [
       "5872458240"
      ]
     },
     "metadata": {},
     "execution_count": 168
    }
   ],
   "source": [
    "%%time\n",
    "get_tree_product(df)\n"
   ]
  }
 ]
}